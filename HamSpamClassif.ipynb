{
 "cells": [
  {
   "cell_type": "code",
   "execution_count": 1,
   "metadata": {},
   "outputs": [],
   "source": [
    "import pandas as pd\n",
    "import numpy as np\n",
    "from sklearn.feature_extraction.text import TfidfVectorizer,CountVectorizer\n",
    "from sklearn.linear_model import LogisticRegression\n",
    "from nltk.tokenize import word_tokenize \n",
    "from nltk.corpus import stopwords\n",
    "from nltk.stem import PorterStemmer\n",
    "stemmer=PorterStemmer()\n",
    "import pandas as pd\n",
    "import matplotlib.pyplot as plt\n",
    "from tqdm import tqdm\n",
    "import re\n",
    " \n",
    "\n",
    "from sklearn.model_selection import train_test_split, cross_val_score\n"
   ]
  },
  {
   "cell_type": "code",
   "execution_count": 2,
   "metadata": {},
   "outputs": [
    {
     "name": "stderr",
     "output_type": "stream",
     "text": [
      "[nltk_data] Downloading package punkt to\n",
      "[nltk_data]     C:\\Users\\Lenovo\\AppData\\Roaming\\nltk_data...\n",
      "[nltk_data]   Package punkt is already up-to-date!\n",
      "[nltk_data] Downloading package stopwords to\n",
      "[nltk_data]     C:\\Users\\Lenovo\\AppData\\Roaming\\nltk_data...\n",
      "[nltk_data]   Package stopwords is already up-to-date!\n"
     ]
    },
    {
     "data": {
      "text/plain": [
       "True"
      ]
     },
     "execution_count": 2,
     "metadata": {},
     "output_type": "execute_result"
    }
   ],
   "source": [
    "import nltk\n",
    "nltk.download('punkt')\n",
    "nltk.download('stopwords')"
   ]
  },
  {
   "cell_type": "code",
   "execution_count": 3,
   "metadata": {},
   "outputs": [],
   "source": [
    "data = pd.read_csv('dataset.csv')\n"
   ]
  },
  {
   "cell_type": "code",
   "execution_count": 4,
   "metadata": {},
   "outputs": [],
   "source": [
    "# Encoding our Labels\n",
    "data['v1']=data['v1'].apply(lambda x: 1 if x=='spam' else 0)"
   ]
  },
  {
   "cell_type": "code",
   "execution_count": 5,
   "metadata": {},
   "outputs": [],
   "source": [
    "import re\n",
    "# preprocessing the Messages\n",
    "new_data=[]\n",
    "\n",
    "for i in range(data.shape[0]):\n",
    "    lines=data.iloc[i,1]\n",
    "    # removing non alphabatic characters\n",
    "    lines= re.sub('[^A-Za-z]',' ',lines)\n",
    "    # lowering the every word\n",
    "    lines=lines.lower()\n",
    "    \n",
    "    # tokenization\n",
    "    tokenized_lines=word_tokenize(lines)\n",
    "    \n",
    "    # removing stop words ,stemming and spell correction\n",
    "    processed_lines=[]\n",
    "    for i in tokenized_lines:\n",
    "        if i not in set(stopwords.words('english')):\n",
    "            processed_lines.append(stemmer.stem(i))\n",
    "            \n",
    "    final_lines=' '.join(processed_lines)\n",
    "    new_data.append(final_lines)"
   ]
  },
  {
   "cell_type": "code",
   "execution_count": 6,
   "metadata": {},
   "outputs": [],
   "source": [
    "#Bigram Modelling and Vectorization\n",
    "\n",
    "vectorizer = CountVectorizer(ngram_range=(1,2))\n",
    "new_data = vectorizer.fit_transform(new_data)"
   ]
  },
  {
   "cell_type": "markdown",
   "metadata": {},
   "source": [
    "## Logistic Regression"
   ]
  },
  {
   "cell_type": "code",
   "execution_count": 7,
   "metadata": {},
   "outputs": [],
   "source": [
    "from sklearn.model_selection import train_test_split\n",
    "X_train, X_test, Y_train, Y_test=train_test_split(new_data,data['v1'],test_size=0.25)\n",
    "\n",
    "logistic = LogisticRegression()\n",
    "logistic.fit(X_train, Y_train)\n",
    "Y_pred = logistic.predict(X_test)"
   ]
  },
  {
   "cell_type": "code",
   "execution_count": 8,
   "metadata": {},
   "outputs": [
    {
     "name": "stdout",
     "output_type": "stream",
     "text": [
      "Confusion Matrix - [[26  2]\n",
      " [ 4 18]]\n",
      "Classification Report -               precision    recall  f1-score   support\n",
      "\n",
      "           0       0.87      0.93      0.90        28\n",
      "           1       0.90      0.82      0.86        22\n",
      "\n",
      "    accuracy                           0.88        50\n",
      "   macro avg       0.88      0.87      0.88        50\n",
      "weighted avg       0.88      0.88      0.88        50\n",
      "\n",
      "\n"
     ]
    }
   ],
   "source": [
    "#Evaluation Metrics\n",
    "from sklearn.metrics import accuracy_score, confusion_matrix, classification_report, precision_score, recall_score, f1_score\n",
    "log_acc = accuracy_score(Y_test,Y_pred) * 100\n",
    "log_conf = confusion_matrix(Y_test,Y_pred)\n",
    "log_class = classification_report(Y_test,Y_pred)\n",
    "log_prec = precision_score(Y_test,Y_pred)\n",
    "log_rec = recall_score(Y_test,Y_pred)\n",
    "log_fscore = f1_score(Y_test,Y_pred)\n",
    "print(\"Confusion Matrix - {}\\nClassification Report - {}\\n\".format(log_conf,log_class))"
   ]
  },
  {
   "cell_type": "markdown",
   "metadata": {},
   "source": [
    "## Support Vector Machine"
   ]
  },
  {
   "cell_type": "code",
   "execution_count": 9,
   "metadata": {},
   "outputs": [],
   "source": [
    "from sklearn.svm import SVC\n",
    "  \n",
    "svc_model = SVC(C= .1, kernel='linear', gamma= 1)\n",
    "svc_model.fit(X_train, Y_train)\n",
    "Y_pred = svc_model.predict(X_test)"
   ]
  },
  {
   "cell_type": "code",
   "execution_count": 10,
   "metadata": {},
   "outputs": [
    {
     "name": "stdout",
     "output_type": "stream",
     "text": [
      "Confusion Matrix - [[26  2]\n",
      " [ 4 18]]\n",
      "Classification Report -               precision    recall  f1-score   support\n",
      "\n",
      "           0       0.87      0.93      0.90        28\n",
      "           1       0.90      0.82      0.86        22\n",
      "\n",
      "    accuracy                           0.88        50\n",
      "   macro avg       0.88      0.87      0.88        50\n",
      "weighted avg       0.88      0.88      0.88        50\n",
      "\n",
      "\n"
     ]
    }
   ],
   "source": [
    "#Evaluation Metrics\n",
    "from sklearn.metrics import accuracy_score, confusion_matrix, classification_report, precision_score, recall_score, f1_score\n",
    "svc_acc = accuracy_score(Y_test,Y_pred) * 100\n",
    "svc_conf = confusion_matrix(Y_test,Y_pred)\n",
    "svc_class = classification_report(Y_test,Y_pred)\n",
    "svc_prec = precision_score(Y_test,Y_pred)\n",
    "svc_rec = recall_score(Y_test,Y_pred)\n",
    "svc_fscore = f1_score(Y_test,Y_pred)\n",
    "print(\"Confusion Matrix - {}\\nClassification Report - {}\\n\".format(svc_conf,svc_class))"
   ]
  },
  {
   "cell_type": "markdown",
   "metadata": {},
   "source": [
    "## Random Forest"
   ]
  },
  {
   "cell_type": "code",
   "execution_count": 11,
   "metadata": {},
   "outputs": [],
   "source": [
    "from sklearn.ensemble import RandomForestClassifier\n",
    "ranfor = RandomForestClassifier(n_estimators = 100) \n",
    "ranfor.fit(X_train, Y_train)\n",
    "Y_pred = ranfor.predict(X_test)"
   ]
  },
  {
   "cell_type": "code",
   "execution_count": 12,
   "metadata": {},
   "outputs": [
    {
     "name": "stdout",
     "output_type": "stream",
     "text": [
      "Confusion Matrix - [[28  0]\n",
      " [ 7 15]]\n",
      "Classification Report -               precision    recall  f1-score   support\n",
      "\n",
      "           0       0.80      1.00      0.89        28\n",
      "           1       1.00      0.68      0.81        22\n",
      "\n",
      "    accuracy                           0.86        50\n",
      "   macro avg       0.90      0.84      0.85        50\n",
      "weighted avg       0.89      0.86      0.85        50\n",
      "\n",
      "\n"
     ]
    }
   ],
   "source": [
    "#Evaluation Metrics\n",
    "from sklearn.metrics import accuracy_score, confusion_matrix, classification_report, precision_score, recall_score, f1_score\n",
    "ranfor_acc = accuracy_score(Y_test,Y_pred) * 100\n",
    "ranfor_conf = confusion_matrix(Y_test,Y_pred)\n",
    "ranfor_class = classification_report(Y_test,Y_pred)\n",
    "ranfor_prec = precision_score(Y_test,Y_pred)\n",
    "ranfor_rec = recall_score(Y_test,Y_pred)\n",
    "ranfor_fscore = f1_score(Y_test,Y_pred)\n",
    "print(\"Confusion Matrix - {}\\nClassification Report - {}\\n\".format(ranfor_conf,ranfor_class))"
   ]
  },
  {
   "cell_type": "markdown",
   "metadata": {},
   "source": [
    "## XGBoost"
   ]
  },
  {
   "cell_type": "code",
   "execution_count": 13,
   "metadata": {},
   "outputs": [],
   "source": [
    "import xgboost as xgb\n",
    "xgb_clf = xgb.XGBClassifier()\n",
    "xgb_clf.fit(X_train, Y_train)\n",
    "Y_pred = xgb_clf.predict(X_test)"
   ]
  },
  {
   "cell_type": "code",
   "execution_count": 14,
   "metadata": {},
   "outputs": [
    {
     "name": "stdout",
     "output_type": "stream",
     "text": [
      "Confusion Matrix - [[23  5]\n",
      " [ 2 20]]\n",
      "Classification Report -               precision    recall  f1-score   support\n",
      "\n",
      "           0       0.92      0.82      0.87        28\n",
      "           1       0.80      0.91      0.85        22\n",
      "\n",
      "    accuracy                           0.86        50\n",
      "   macro avg       0.86      0.87      0.86        50\n",
      "weighted avg       0.87      0.86      0.86        50\n",
      "\n",
      "\n"
     ]
    }
   ],
   "source": [
    "#Evaluation Metrics\n",
    "from sklearn.metrics import accuracy_score, confusion_matrix, classification_report, precision_score, recall_score, f1_score\n",
    "xgb_clf_acc = accuracy_score(Y_test,Y_pred) * 100\n",
    "xgb_clf_conf = confusion_matrix(Y_test,Y_pred)\n",
    "xgb_clf_class = classification_report(Y_test,Y_pred)\n",
    "xgb_clf_prec = precision_score(Y_test,Y_pred)\n",
    "xgb_clf_rec = recall_score(Y_test,Y_pred)\n",
    "xgb_clf_fscore = f1_score(Y_test,Y_pred)\n",
    "print(\"Confusion Matrix - {}\\nClassification Report - {}\\n\".format(xgb_clf_conf,xgb_clf_class))"
   ]
  },
  {
   "cell_type": "markdown",
   "metadata": {},
   "source": [
    "## AdaBoost"
   ]
  },
  {
   "cell_type": "code",
   "execution_count": 15,
   "metadata": {},
   "outputs": [],
   "source": [
    "from sklearn.ensemble import AdaBoostClassifier\n",
    "ada_clf = AdaBoostClassifier(n_estimators=50)\n",
    "ada_clf.fit(X_train, Y_train)\n",
    "Y_pred = ada_clf.predict(X_test)"
   ]
  },
  {
   "cell_type": "code",
   "execution_count": 16,
   "metadata": {},
   "outputs": [
    {
     "name": "stdout",
     "output_type": "stream",
     "text": [
      "Confusion Matrix - [[25  3]\n",
      " [ 4 18]]\n",
      "Classification Report -               precision    recall  f1-score   support\n",
      "\n",
      "           0       0.86      0.89      0.88        28\n",
      "           1       0.86      0.82      0.84        22\n",
      "\n",
      "    accuracy                           0.86        50\n",
      "   macro avg       0.86      0.86      0.86        50\n",
      "weighted avg       0.86      0.86      0.86        50\n",
      "\n",
      "\n",
      "0.8181818181818182\n"
     ]
    }
   ],
   "source": [
    "#Evaluation Metrics\n",
    "from sklearn.metrics import accuracy_score, confusion_matrix, classification_report, precision_score, recall_score, f1_score\n",
    "ada_clf_acc = accuracy_score(Y_test,Y_pred) * 100\n",
    "ada_clf_conf = confusion_matrix(Y_test,Y_pred)\n",
    "ada_clf_class = classification_report(Y_test,Y_pred)\n",
    "ada_clf_prec = precision_score(Y_test,Y_pred)\n",
    "ada_clf_rec = recall_score(Y_test,Y_pred)\n",
    "ada_clf_fscore = f1_score(Y_test,Y_pred)\n",
    "print(\"Confusion Matrix - {}\\nClassification Report - {}\\n\".format(ada_clf_conf,ada_clf_class))\n",
    "print(ada_clf_rec)"
   ]
  },
  {
   "cell_type": "code",
   "execution_count": 17,
   "metadata": {},
   "outputs": [],
   "source": [
    "eval_df = pd.DataFrame(columns=['Classification Model', 'Accuracy','Precision','Recall','F1_Score'])\n",
    "\n",
    "eval_df['Classification Model'] = ['Logistic Regression','Support Vector Machines', 'Random Forest', 'XGBoost', 'AdaBoost']\n",
    "\n",
    "eval_df['Accuracy'] = [log_acc,svc_acc,ranfor_acc,xgb_clf_acc,ada_clf_acc]\n",
    "eval_df['Precision'] = [log_prec,svc_prec,ranfor_prec,xgb_clf_prec,ada_clf_prec]\n",
    "eval_df['Recall'] = [log_rec,svc_rec,ranfor_rec,xgb_clf_rec,ada_clf_rec]\n",
    "eval_df['F1_Score'] = [log_fscore,svc_fscore,ranfor_fscore,xgb_clf_fscore,ada_clf_fscore]"
   ]
  },
  {
   "cell_type": "code",
   "execution_count": 18,
   "metadata": {},
   "outputs": [
    {
     "data": {
      "text/html": [
       "<div>\n",
       "<style scoped>\n",
       "    .dataframe tbody tr th:only-of-type {\n",
       "        vertical-align: middle;\n",
       "    }\n",
       "\n",
       "    .dataframe tbody tr th {\n",
       "        vertical-align: top;\n",
       "    }\n",
       "\n",
       "    .dataframe thead th {\n",
       "        text-align: right;\n",
       "    }\n",
       "</style>\n",
       "<table border=\"1\" class=\"dataframe\">\n",
       "  <thead>\n",
       "    <tr style=\"text-align: right;\">\n",
       "      <th></th>\n",
       "      <th>Classification Model</th>\n",
       "      <th>Accuracy</th>\n",
       "      <th>Precision</th>\n",
       "      <th>Recall</th>\n",
       "      <th>F1_Score</th>\n",
       "    </tr>\n",
       "  </thead>\n",
       "  <tbody>\n",
       "    <tr>\n",
       "      <th>0</th>\n",
       "      <td>Logistic Regression</td>\n",
       "      <td>88.0</td>\n",
       "      <td>0.900000</td>\n",
       "      <td>0.818182</td>\n",
       "      <td>0.857143</td>\n",
       "    </tr>\n",
       "    <tr>\n",
       "      <th>1</th>\n",
       "      <td>Support Vector Machines</td>\n",
       "      <td>88.0</td>\n",
       "      <td>0.900000</td>\n",
       "      <td>0.818182</td>\n",
       "      <td>0.857143</td>\n",
       "    </tr>\n",
       "    <tr>\n",
       "      <th>2</th>\n",
       "      <td>Random Forest</td>\n",
       "      <td>86.0</td>\n",
       "      <td>1.000000</td>\n",
       "      <td>0.681818</td>\n",
       "      <td>0.810811</td>\n",
       "    </tr>\n",
       "    <tr>\n",
       "      <th>3</th>\n",
       "      <td>XGBoost</td>\n",
       "      <td>86.0</td>\n",
       "      <td>0.800000</td>\n",
       "      <td>0.909091</td>\n",
       "      <td>0.851064</td>\n",
       "    </tr>\n",
       "    <tr>\n",
       "      <th>4</th>\n",
       "      <td>AdaBoost</td>\n",
       "      <td>86.0</td>\n",
       "      <td>0.857143</td>\n",
       "      <td>0.818182</td>\n",
       "      <td>0.837209</td>\n",
       "    </tr>\n",
       "  </tbody>\n",
       "</table>\n",
       "</div>"
      ],
      "text/plain": [
       "      Classification Model  Accuracy  Precision    Recall  F1_Score\n",
       "0      Logistic Regression      88.0   0.900000  0.818182  0.857143\n",
       "1  Support Vector Machines      88.0   0.900000  0.818182  0.857143\n",
       "2            Random Forest      86.0   1.000000  0.681818  0.810811\n",
       "3                  XGBoost      86.0   0.800000  0.909091  0.851064\n",
       "4                 AdaBoost      86.0   0.857143  0.818182  0.837209"
      ]
     },
     "execution_count": 18,
     "metadata": {},
     "output_type": "execute_result"
    }
   ],
   "source": [
    "eval_df"
   ]
  },
  {
   "cell_type": "code",
   "execution_count": 19,
   "metadata": {},
   "outputs": [
    {
     "data": {
      "text/plain": [
       "[]"
      ]
     },
     "execution_count": 19,
     "metadata": {},
     "output_type": "execute_result"
    },
    {
     "data": {
      "image/png": "[encoded data removed]",
      "text/plain": [
       "<Figure size 432x288 with 1 Axes>"
      ]
     },
     "metadata": {
      "needs_background": "light"
     },
     "output_type": "display_data"
    }
   ],
   "source": [
    "import matplotlib.pyplot as plt\n",
    "%matplotlib inline\n",
    "\n",
    "plt.bar(eval_df['Classification Model'],eval_df['Accuracy'])\n",
    "plt.title('Accuracy')\n",
    "plt.xticks(rotation=45)\n",
    "plt.xlabel('Model')\n",
    "plt.ylabel('Accuracy')\n",
    "plt.plot()"
   ]
  },
  {
   "cell_type": "code",
   "execution_count": 20,
   "metadata": {},
   "outputs": [
    {
     "data": {
      "text/plain": [
       "[]"
      ]
     },
     "execution_count": 20,
     "metadata": {},
     "output_type": "execute_result"
    },
    {
     "data": {
      "image/png": "[encoded data removed]",
      "text/plain": [
       "<Figure size 432x288 with 1 Axes>"
      ]
     },
     "metadata": {
      "needs_background": "light"
     },
     "output_type": "display_data"
    }
   ],
   "source": [
    "plt.bar(eval_df['Classification Model'],eval_df['Precision'])\n",
    "plt.title('Precision')\n",
    "plt.xticks(rotation=45)\n",
    "plt.xlabel('Model')\n",
    "plt.ylabel('Precision')\n",
    "plt.plot()"
   ]
  },
  {
   "cell_type": "code",
   "execution_count": 21,
   "metadata": {},
   "outputs": [
    {
     "data": {
      "text/plain": [
       "[]"
      ]
     },
     "execution_count": 21,
     "metadata": {},
     "output_type": "execute_result"
    },
    {
     "data": {
      "image/png": "[encoded data removed]",
      "text/plain": [
       "<Figure size 432x288 with 1 Axes>"
      ]
     },
     "metadata": {
      "needs_background": "light"
     },
     "output_type": "display_data"
    }
   ],
   "source": [
    "plt.bar(eval_df['Classification Model'],eval_df['Recall'])\n",
    "plt.title('Recall')\n",
    "plt.xticks(rotation=45)\n",
    "plt.xlabel('Model')\n",
    "plt.ylabel('Recall')\n",
    "plt.plot()"
   ]
  },
  {
   "cell_type": "code",
   "execution_count": 22,
   "metadata": {},
   "outputs": [
    {
     "data": {
      "text/plain": [
       "[]"
      ]
     },
     "execution_count": 22,
     "metadata": {},
     "output_type": "execute_result"
    },
    {
     "data": {
      "image/png": "[encoded data removed]",
      "text/plain": [
       "<Figure size 432x288 with 1 Axes>"
      ]
     },
     "metadata": {
      "needs_background": "light"
     },
     "output_type": "display_data"
    }
   ],
   "source": [
    "plt.bar(eval_df['Classification Model'],eval_df['F1_Score'])\n",
    "plt.title('F1_Score')\n",
    "plt.xticks(rotation=45)\n",
    "plt.xlabel('Model')\n",
    "plt.ylabel('F1_Score')\n",
    "plt.plot()"
   ]
  },
  {
   "cell_type": "code",
   "execution_count": null,
   "metadata": {},
   "outputs": [],
   "source": []
  },
  {
   "cell_type": "code",
   "execution_count": null,
   "metadata": {},
   "outputs": [],
   "source": []
  }
 ],
 "metadata": {
  "kernelspec": {
   "display_name": "Python 3",
   "language": "python",
   "name": "python3"
  },
  "language_info": {
   "codemirror_mode": {
    "name": "ipython",
    "version": 3
   },
   "file_extension": ".py",
   "mimetype": "text/x-python",
   "name": "python",
   "nbconvert_exporter": "python",
   "pygments_lexer": "ipython3",
   "version": "3.8.2"
  }
 },
 "nbformat": 4,
 "nbformat_minor": 4
}
