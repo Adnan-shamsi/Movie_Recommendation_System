{
 "cells": [
  {
   "cell_type": "code",
   "execution_count": 21,
   "id": "e5e8e702",
   "metadata": {},
   "outputs": [],
   "source": [
    "file = open(\"./input.txt\")\n",
    "data = file.read()"
   ]
  },
  {
   "cell_type": "code",
   "execution_count": 26,
   "id": "a247059c",
   "metadata": {},
   "outputs": [
    {
     "name": "stdout",
     "output_type": "stream",
     "text": [
      "The words are: \n",
      "This, is, my, plan., Hello, everyone,, now, we, need, to, get, to, work., We'll, have, a, meeting, about, social, media, strategies, tomorrow., So,, in, the, meantime,, you, must, all, suggest, some, strategies, for, increasing, engagement, and, followers, from, U.S.A., on, the, Instagram, page., let's, go, to, U.S.A. \n",
      "\n",
      "The word count is: 47 \n",
      "\n",
      "The size of the vocabulary is:  42 \n",
      "\n"
     ]
    }
   ],
   "source": [
    "words = data.split(' ')\n",
    "print(\"The words are: \\n\" + ', '.join(words),'\\n')\n",
    "print(\"The word count is: \" + str(len(words)), '\\n')\n",
    "words = list(map(lambda e: e.lower(), words))\n",
    "print(\"The size of the vocabulary is: \", len(set(words)),'\\n')\n"
   ]
  },
  {
   "cell_type": "code",
   "execution_count": 23,
   "id": "693bf2ec",
   "metadata": {},
   "outputs": [
    {
     "data": {
      "text/plain": [
       "['This is my plan',\n",
       " ' Hello everyone, now we need to get to work',\n",
       " \" We'll have a meeting about social media strategies tomorrow\",\n",
       " ' So, in the meantime, you must all suggest some strategies for increasing engagement and followers from U',\n",
       " 'S',\n",
       " 'A',\n",
       " ' on the Instagram page',\n",
       " \" let's go to U\",\n",
       " 'S',\n",
       " 'A',\n",
       " '']"
      ]
     },
     "execution_count": 23,
     "metadata": {},
     "output_type": "execute_result"
    }
   ],
   "source": [
    "data.split('.')"
   ]
  },
  {
   "cell_type": "code",
   "execution_count": 29,
   "id": "b167ed75",
   "metadata": {},
   "outputs": [
    {
     "name": "stdout",
     "output_type": "stream",
     "text": [
      "The sentences are: \n",
      "\n",
      "This is my plan\n",
      "Hello everyone, now we need to get to work\n",
      "We'll have a meeting about social media strategies tomorrow\n",
      "So, in the meantime, you must all suggest some strategies for increasing engagement and followers from U.S.A. on the Instagram page\n",
      "let's go to U.S.A. \n",
      "\n",
      "The sentence count is: 5 \n",
      "\n",
      "Document of unique sentences and ID\n",
      "\n",
      "SEN1\t\tSo, in the meantime, you must all suggest some strategies for increasing engagement and followers from U.S.A. on the Instagram page\n",
      "SEN2\t\tThis is my plan\n",
      "SEN3\t\tlet's go to U.S.A.\n",
      "SEN4\t\tHello everyone, now we need to get to work\n",
      "SEN5\t\tWe'll have a meeting about social media strategies tomorrow\n"
     ]
    }
   ],
   "source": [
    "sentences = data.split('.')\n",
    "i = 0\n",
    "prevAbbrFlag = False\n",
    "while i < len(sentences):\n",
    "    if len(sentences[i]) < 5 or prevAbbrFlag:\n",
    "        if len(sentences[i]) > 5:\n",
    "            prevAbbrFlag = False\n",
    "        else:\n",
    "            prevAbbrFlag = True\n",
    "        sentences[i-1] += '.' + sentences[i]\n",
    "        sentences.pop(i)\n",
    "        continue\n",
    "    i += 1\n",
    "\n",
    "i = 0\n",
    "while i < len(sentences):\n",
    "    sentences[i] = sentences[i].lstrip()\n",
    "    i += 1\n",
    "print(\"The sentences are: \\n\\n\" + '\\n'.join(sentences),'\\n')\n",
    "print(\"The sentence count is: \" + str(len(sentences)),'\\n')\n",
    "\n",
    "uniqueSentences = set(sentences)\n",
    "\n",
    "print(\"Document of unique sentences and ID\\n\")\n",
    "\n",
    "i = 1\n",
    "for sentence in uniqueSentences:\n",
    "    print(\"SEN\" + str(i) + '\\t\\t' + sentence)\n",
    "    i = i+1\n"
   ]
  },
  {
   "cell_type": "code",
   "execution_count": 28,
   "id": "83e4c111",
   "metadata": {},
   "outputs": [],
   "source": [
    "file.close()"
   ]
  },
  {
   "cell_type": "code",
   "execution_count": null,
   "id": "24796390",
   "metadata": {},
   "outputs": [],
   "source": []
  },
  {
   "cell_type": "code",
   "execution_count": null,
   "id": "2ad5e0a7",
   "metadata": {},
   "outputs": [],
   "source": []
  }
 ],
 "metadata": {
  "kernelspec": {
   "display_name": "Python 3 (ipykernel)",
   "language": "python",
   "name": "python3"
  },
  "language_info": {
   "codemirror_mode": {
    "name": "ipython",
    "version": 3
   },
   "file_extension": ".py",
   "mimetype": "text/x-python",
   "name": "python",
   "nbconvert_exporter": "python",
   "pygments_lexer": "ipython3",
   "version": "3.9.12"
  }
 },
 "nbformat": 4,
 "nbformat_minor": 5
}
