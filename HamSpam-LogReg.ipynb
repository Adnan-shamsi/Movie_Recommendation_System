{
 "cells": [
  {
   "cell_type": "code",
   "execution_count": 1,
   "metadata": {},
   "outputs": [],
   "source": [
    "import pandas as pd\n",
    "import numpy as np\n",
    "from sklearn.feature_extraction.text import TfidfVectorizer,CountVectorizer\n",
    "from sklearn.linear_model import LogisticRegression\n",
    "from nltk.tokenize import word_tokenize \n",
    "from nltk.corpus import stopwords\n",
    "from nltk.stem import PorterStemmer\n",
    "stemmer=PorterStemmer()\n",
    "import pandas as pd\n",
    "import matplotlib.pyplot as plt\n",
    "from tqdm import tqdm\n",
    "import re\n",
    " \n",
    "\n",
    "from sklearn.model_selection import train_test_split, cross_val_score\n"
   ]
  },
  {
   "cell_type": "code",
   "execution_count": 2,
   "metadata": {},
   "outputs": [
    {
     "name": "stderr",
     "output_type": "stream",
     "text": [
      "[nltk_data] Downloading package punkt to\n",
      "[nltk_data]     C:\\Users\\Lenovo\\AppData\\Roaming\\nltk_data...\n",
      "[nltk_data]   Package punkt is already up-to-date!\n",
      "[nltk_data] Downloading package stopwords to\n",
      "[nltk_data]     C:\\Users\\Lenovo\\AppData\\Roaming\\nltk_data...\n",
      "[nltk_data]   Package stopwords is already up-to-date!\n"
     ]
    },
    {
     "data": {
      "text/plain": [
       "True"
      ]
     },
     "execution_count": 2,
     "metadata": {},
     "output_type": "execute_result"
    }
   ],
   "source": [
    "import nltk\n",
    "nltk.download('punkt')\n",
    "nltk.download('stopwords')"
   ]
  },
  {
   "cell_type": "code",
   "execution_count": 3,
   "metadata": {},
   "outputs": [],
   "source": [
    "data = pd.read_csv('dataset.csv')\n"
   ]
  },
  {
   "cell_type": "code",
   "execution_count": 4,
   "metadata": {},
   "outputs": [],
   "source": [
    "# Encoding our Labels\n",
    "data['v1']=data['v1'].apply(lambda x: 1 if x=='spam' else 0)"
   ]
  },
  {
   "cell_type": "code",
   "execution_count": 5,
   "metadata": {},
   "outputs": [],
   "source": [
    "import re\n",
    "# preprocessing the Messages\n",
    "def preprocess(data):\n",
    "    new_data=[]\n",
    "\n",
    "    for i in range(data.shape[0]):\n",
    "        lines=data.iloc[i,1]\n",
    "        # removing non alphabatic characters\n",
    "        lines= re.sub('[^A-Za-z]',' ',lines)\n",
    "        # lowering the every word\n",
    "        lines=lines.lower()\n",
    "\n",
    "        # tokenization\n",
    "        tokenized_lines=word_tokenize(lines)\n",
    "\n",
    "        # removing stop words ,stemming and spell correction\n",
    "        processed_lines=[]\n",
    "        for i in tokenized_lines:\n",
    "            if i not in set(stopwords.words('english')):\n",
    "                processed_lines.append(stemmer.stem(i))\n",
    "\n",
    "        final_lines=' '.join(processed_lines)\n",
    "        new_data.append(final_lines)\n",
    "    return new_data"
   ]
  },
  {
   "cell_type": "code",
   "execution_count": 6,
   "metadata": {},
   "outputs": [],
   "source": [
    "eval_df = pd.DataFrame(columns=['NGram', 'Accuracy','Precision','Recall','F1_Score'])\n",
    "eval_df['NGram'] = ['n=1','n=2', 'n=3', 'n=4', 'n=5', 'n=6', 'n=7', 'n=8', 'n=9', 'n=10']"
   ]
  },
  {
   "cell_type": "markdown",
   "metadata": {},
   "source": [
    "## n=1 Gram"
   ]
  },
  {
   "cell_type": "code",
   "execution_count": 7,
   "metadata": {},
   "outputs": [
    {
     "name": "stdout",
     "output_type": "stream",
     "text": [
      "Confusion Matrix - \n",
      "[[26  0]\n",
      " [ 5 19]]\n",
      "Classification Report - \n",
      "              precision    recall  f1-score   support\n",
      "\n",
      "           0       0.84      1.00      0.91        26\n",
      "           1       1.00      0.79      0.88        24\n",
      "\n",
      "    accuracy                           0.90        50\n",
      "   macro avg       0.92      0.90      0.90        50\n",
      "weighted avg       0.92      0.90      0.90        50\n",
      "\n",
      "\n"
     ]
    }
   ],
   "source": [
    "#Unigram Modelling and Vectorization\n",
    "new_data = preprocess(data)\n",
    "vectorizer = CountVectorizer(ngram_range=(1,1))\n",
    "new_data = vectorizer.fit_transform(new_data)\n",
    "\n",
    "## Logistic Regression\n",
    "\n",
    "from sklearn.model_selection import train_test_split\n",
    "X_train, X_test, Y_train, Y_test=train_test_split(new_data,data['v1'],test_size=0.25)\n",
    "\n",
    "logistic = LogisticRegression()\n",
    "logistic.fit(X_train, Y_train)\n",
    "Y_pred = logistic.predict(X_test)\n",
    "\n",
    "#Evaluation Metrics\n",
    "from sklearn.metrics import accuracy_score, confusion_matrix, classification_report, precision_score, recall_score, f1_score\n",
    "log_acc = accuracy_score(Y_test,Y_pred) * 100\n",
    "log_conf = confusion_matrix(Y_test,Y_pred)\n",
    "log_class = classification_report(Y_test,Y_pred)\n",
    "log_prec = precision_score(Y_test,Y_pred)\n",
    "log_rec = recall_score(Y_test,Y_pred)\n",
    "log_fscore = f1_score(Y_test,Y_pred)\n",
    "eval_df.at[0,'Accuracy'] = log_acc\n",
    "eval_df.at[0,'Precision'] = log_prec\n",
    "eval_df.at[0,'Recall'] = log_rec\n",
    "eval_df.at[0,'F1_Score'] = log_fscore\n",
    "print(\"Confusion Matrix - \\n{}\\nClassification Report - \\n{}\\n\".format(log_conf,log_class))"
   ]
  },
  {
   "cell_type": "markdown",
   "metadata": {},
   "source": [
    "## n=2 Gram"
   ]
  },
  {
   "cell_type": "code",
   "execution_count": 8,
   "metadata": {},
   "outputs": [
    {
     "name": "stdout",
     "output_type": "stream",
     "text": [
      "Confusion Matrix - \n",
      "[[23  0]\n",
      " [19  8]]\n",
      "Classification Report - \n",
      "              precision    recall  f1-score   support\n",
      "\n",
      "           0       0.55      1.00      0.71        23\n",
      "           1       1.00      0.30      0.46        27\n",
      "\n",
      "    accuracy                           0.62        50\n",
      "   macro avg       0.77      0.65      0.58        50\n",
      "weighted avg       0.79      0.62      0.57        50\n",
      "\n",
      "\n"
     ]
    }
   ],
   "source": [
    "#Bigram Modelling and Vectorization\n",
    "new_data = preprocess(data)\n",
    "vectorizer = CountVectorizer(ngram_range=(2,2))\n",
    "new_data = vectorizer.fit_transform(new_data)\n",
    "\n",
    "## Logistic Regression\n",
    "\n",
    "from sklearn.model_selection import train_test_split\n",
    "X_train, X_test, Y_train, Y_test=train_test_split(new_data,data['v1'],test_size=0.25)\n",
    "\n",
    "logistic = LogisticRegression()\n",
    "logistic.fit(X_train, Y_train)\n",
    "Y_pred = logistic.predict(X_test)\n",
    "\n",
    "#Evaluation Metrics\n",
    "from sklearn.metrics import accuracy_score, confusion_matrix, classification_report, precision_score, recall_score, f1_score\n",
    "log_acc = accuracy_score(Y_test,Y_pred) * 100\n",
    "log_conf = confusion_matrix(Y_test,Y_pred)\n",
    "log_class = classification_report(Y_test,Y_pred)\n",
    "log_prec = precision_score(Y_test,Y_pred)\n",
    "log_rec = recall_score(Y_test,Y_pred)\n",
    "log_fscore = f1_score(Y_test,Y_pred)\n",
    "eval_df.at[1,'Accuracy'] = log_acc\n",
    "eval_df.at[1,'Precision'] = log_prec\n",
    "eval_df.at[1,'Recall'] = log_rec\n",
    "eval_df.at[1,'F1_Score'] = log_fscore\n",
    "print(\"Confusion Matrix - \\n{}\\nClassification Report - \\n{}\\n\".format(log_conf,log_class))"
   ]
  },
  {
   "cell_type": "markdown",
   "metadata": {},
   "source": [
    "## n=3 Gram"
   ]
  },
  {
   "cell_type": "code",
   "execution_count": 9,
   "metadata": {},
   "outputs": [
    {
     "name": "stdout",
     "output_type": "stream",
     "text": [
      "Confusion Matrix - \n",
      "[[21  0]\n",
      " [28  1]]\n",
      "Classification Report - \n",
      "              precision    recall  f1-score   support\n",
      "\n",
      "           0       0.43      1.00      0.60        21\n",
      "           1       1.00      0.03      0.07        29\n",
      "\n",
      "    accuracy                           0.44        50\n",
      "   macro avg       0.71      0.52      0.33        50\n",
      "weighted avg       0.76      0.44      0.29        50\n",
      "\n",
      "\n"
     ]
    }
   ],
   "source": [
    "#Trigram Modelling and Vectorization\n",
    "new_data = preprocess(data)\n",
    "vectorizer = TfidfVectorizer(ngram_range=(3,3))\n",
    "new_data = vectorizer.fit_transform(new_data)\n",
    "\n",
    "## Logistic Regression\n",
    "\n",
    "from sklearn.model_selection import train_test_split\n",
    "X_train, X_test, Y_train, Y_test=train_test_split(new_data,data['v1'],test_size=0.25)\n",
    "\n",
    "logistic = LogisticRegression()\n",
    "logistic.fit(X_train, Y_train)\n",
    "Y_pred = logistic.predict(X_test)\n",
    "\n",
    "#Evaluation Metrics\n",
    "from sklearn.metrics import accuracy_score, confusion_matrix, classification_report, precision_score, recall_score, f1_score\n",
    "log_acc = accuracy_score(Y_test,Y_pred) * 100\n",
    "log_conf = confusion_matrix(Y_test,Y_pred)\n",
    "log_class = classification_report(Y_test,Y_pred)\n",
    "log_prec = precision_score(Y_test,Y_pred)\n",
    "log_rec = recall_score(Y_test,Y_pred)\n",
    "log_fscore = f1_score(Y_test,Y_pred)\n",
    "eval_df.at[2,'Accuracy'] = log_acc\n",
    "eval_df.at[2,'Precision'] = log_prec\n",
    "eval_df.at[2,'Recall'] = log_rec\n",
    "eval_df.at[2,'F1_Score'] = log_fscore\n",
    "print(\"Confusion Matrix - \\n{}\\nClassification Report - \\n{}\\n\".format(log_conf,log_class))"
   ]
  },
  {
   "cell_type": "markdown",
   "metadata": {},
   "source": [
    "## n=4 Gram"
   ]
  },
  {
   "cell_type": "code",
   "execution_count": 10,
   "metadata": {},
   "outputs": [
    {
     "name": "stdout",
     "output_type": "stream",
     "text": [
      "Confusion Matrix - \n",
      "[[24  0]\n",
      " [23  3]]\n",
      "Classification Report - \n",
      "              precision    recall  f1-score   support\n",
      "\n",
      "           0       0.51      1.00      0.68        24\n",
      "           1       1.00      0.12      0.21        26\n",
      "\n",
      "    accuracy                           0.54        50\n",
      "   macro avg       0.76      0.56      0.44        50\n",
      "weighted avg       0.77      0.54      0.43        50\n",
      "\n",
      "\n"
     ]
    }
   ],
   "source": [
    "#n-4gram Modelling and Vectorization\n",
    "new_data = preprocess(data)\n",
    "vectorizer = TfidfVectorizer(ngram_range=(4,4))\n",
    "new_data = vectorizer.fit_transform(new_data)\n",
    "\n",
    "## Logistic Regression\n",
    "\n",
    "from sklearn.model_selection import train_test_split\n",
    "X_train, X_test, Y_train, Y_test=train_test_split(new_data,data['v1'],test_size=0.25)\n",
    "\n",
    "logistic = LogisticRegression()\n",
    "logistic.fit(X_train, Y_train)\n",
    "Y_pred = logistic.predict(X_test)\n",
    "\n",
    "#Evaluation Metrics\n",
    "from sklearn.metrics import accuracy_score, confusion_matrix, classification_report, precision_score, recall_score, f1_score\n",
    "log_acc = accuracy_score(Y_test,Y_pred) * 100\n",
    "log_conf = confusion_matrix(Y_test,Y_pred)\n",
    "log_class = classification_report(Y_test,Y_pred)\n",
    "log_prec = precision_score(Y_test,Y_pred)\n",
    "log_rec = recall_score(Y_test,Y_pred)\n",
    "log_fscore = f1_score(Y_test,Y_pred)\n",
    "eval_df.at[3,'Accuracy'] = log_acc\n",
    "eval_df.at[3,'Precision'] = log_prec\n",
    "eval_df.at[3,'Recall'] = log_rec\n",
    "eval_df.at[3,'F1_Score'] = log_fscore\n",
    "print(\"Confusion Matrix - \\n{}\\nClassification Report - \\n{}\\n\".format(log_conf,log_class))"
   ]
  },
  {
   "cell_type": "markdown",
   "metadata": {},
   "source": [
    "## n=5 Gram"
   ]
  },
  {
   "cell_type": "code",
   "execution_count": 11,
   "metadata": {},
   "outputs": [
    {
     "name": "stdout",
     "output_type": "stream",
     "text": [
      "Confusion Matrix - \n",
      "[[24  0]\n",
      " [25  1]]\n",
      "Classification Report - \n",
      "              precision    recall  f1-score   support\n",
      "\n",
      "           0       0.49      1.00      0.66        24\n",
      "           1       1.00      0.04      0.07        26\n",
      "\n",
      "    accuracy                           0.50        50\n",
      "   macro avg       0.74      0.52      0.37        50\n",
      "weighted avg       0.76      0.50      0.35        50\n",
      "\n",
      "\n"
     ]
    }
   ],
   "source": [
    "#n-5gram Modelling and Vectorization\n",
    "new_data = preprocess(data)\n",
    "vectorizer = TfidfVectorizer(ngram_range=(5,5))\n",
    "new_data = vectorizer.fit_transform(new_data)\n",
    "\n",
    "## Logistic Regression\n",
    "\n",
    "from sklearn.model_selection import train_test_split\n",
    "X_train, X_test, Y_train, Y_test=train_test_split(new_data,data['v1'],test_size=0.25)\n",
    "\n",
    "logistic = LogisticRegression()\n",
    "logistic.fit(X_train, Y_train)\n",
    "Y_pred = logistic.predict(X_test)\n",
    "\n",
    "#Evaluation Metrics\n",
    "from sklearn.metrics import accuracy_score, confusion_matrix, classification_report, precision_score, recall_score, f1_score\n",
    "log_acc = accuracy_score(Y_test,Y_pred) * 100\n",
    "log_conf = confusion_matrix(Y_test,Y_pred)\n",
    "log_class = classification_report(Y_test,Y_pred)\n",
    "log_prec = precision_score(Y_test,Y_pred)\n",
    "log_rec = recall_score(Y_test,Y_pred)\n",
    "log_fscore = f1_score(Y_test,Y_pred)\n",
    "eval_df.at[4,'Accuracy'] = log_acc\n",
    "eval_df.at[4,'Precision'] = log_prec\n",
    "eval_df.at[4,'Recall'] = log_rec\n",
    "eval_df.at[4,'F1_Score'] = log_fscore\n",
    "print(\"Confusion Matrix - \\n{}\\nClassification Report - \\n{}\\n\".format(log_conf,log_class))"
   ]
  },
  {
   "cell_type": "markdown",
   "metadata": {},
   "source": [
    "## n=6 Gram"
   ]
  },
  {
   "cell_type": "code",
   "execution_count": 12,
   "metadata": {},
   "outputs": [
    {
     "name": "stdout",
     "output_type": "stream",
     "text": [
      "Confusion Matrix - \n",
      "[[26  0]\n",
      " [23  1]]\n",
      "Classification Report - \n",
      "              precision    recall  f1-score   support\n",
      "\n",
      "           0       0.53      1.00      0.69        26\n",
      "           1       1.00      0.04      0.08        24\n",
      "\n",
      "    accuracy                           0.54        50\n",
      "   macro avg       0.77      0.52      0.39        50\n",
      "weighted avg       0.76      0.54      0.40        50\n",
      "\n",
      "\n"
     ]
    }
   ],
   "source": [
    "#n-6gram Modelling and Vectorization\n",
    "new_data = preprocess(data)\n",
    "vectorizer = TfidfVectorizer(ngram_range=(6,6))\n",
    "new_data = vectorizer.fit_transform(new_data)\n",
    "\n",
    "## Logistic Regression\n",
    "\n",
    "from sklearn.model_selection import train_test_split\n",
    "X_train, X_test, Y_train, Y_test=train_test_split(new_data,data['v1'],test_size=0.25)\n",
    "\n",
    "logistic = LogisticRegression()\n",
    "logistic.fit(X_train, Y_train)\n",
    "Y_pred = logistic.predict(X_test)\n",
    "\n",
    "#Evaluation Metrics\n",
    "from sklearn.metrics import accuracy_score, confusion_matrix, classification_report, precision_score, recall_score, f1_score\n",
    "log_acc = accuracy_score(Y_test,Y_pred) * 100\n",
    "log_conf = confusion_matrix(Y_test,Y_pred)\n",
    "log_class = classification_report(Y_test,Y_pred)\n",
    "log_prec = precision_score(Y_test,Y_pred)\n",
    "log_rec = recall_score(Y_test,Y_pred)\n",
    "log_fscore = f1_score(Y_test,Y_pred)\n",
    "eval_df.at[5,'Accuracy'] = log_acc\n",
    "eval_df.at[5,'Precision'] = log_prec\n",
    "eval_df.at[5,'Recall'] = log_rec\n",
    "eval_df.at[5,'F1_Score'] = log_fscore\n",
    "print(\"Confusion Matrix - \\n{}\\nClassification Report - \\n{}\\n\".format(log_conf,log_class))"
   ]
  },
  {
   "cell_type": "markdown",
   "metadata": {},
   "source": [
    "## n=7 Gram"
   ]
  },
  {
   "cell_type": "code",
   "execution_count": 13,
   "metadata": {},
   "outputs": [
    {
     "name": "stdout",
     "output_type": "stream",
     "text": [
      "Confusion Matrix - \n",
      "[[26  0]\n",
      " [21  3]]\n",
      "Classification Report - \n",
      "              precision    recall  f1-score   support\n",
      "\n",
      "           0       0.55      1.00      0.71        26\n",
      "           1       1.00      0.12      0.22        24\n",
      "\n",
      "    accuracy                           0.58        50\n",
      "   macro avg       0.78      0.56      0.47        50\n",
      "weighted avg       0.77      0.58      0.48        50\n",
      "\n",
      "\n"
     ]
    }
   ],
   "source": [
    "#n-7gram Modelling and Vectorization\n",
    "new_data = preprocess(data)\n",
    "vectorizer = TfidfVectorizer(ngram_range=(7,7))\n",
    "new_data = vectorizer.fit_transform(new_data)\n",
    "\n",
    "## Logistic Regression\n",
    "\n",
    "from sklearn.model_selection import train_test_split\n",
    "X_train, X_test, Y_train, Y_test=train_test_split(new_data,data['v1'],test_size=0.25)\n",
    "\n",
    "logistic = LogisticRegression()\n",
    "logistic.fit(X_train, Y_train)\n",
    "Y_pred = logistic.predict(X_test)\n",
    "\n",
    "#Evaluation Metrics\n",
    "from sklearn.metrics import accuracy_score, confusion_matrix, classification_report, precision_score, recall_score, f1_score\n",
    "log_acc = accuracy_score(Y_test,Y_pred) * 100\n",
    "log_conf = confusion_matrix(Y_test,Y_pred)\n",
    "log_class = classification_report(Y_test,Y_pred)\n",
    "log_prec = precision_score(Y_test,Y_pred)\n",
    "log_rec = recall_score(Y_test,Y_pred)\n",
    "log_fscore = f1_score(Y_test,Y_pred)\n",
    "eval_df.at[6,'Accuracy'] = log_acc\n",
    "eval_df.at[6,'Precision'] = log_prec\n",
    "eval_df.at[6,'Recall'] = log_rec\n",
    "eval_df.at[6,'F1_Score'] = log_fscore\n",
    "print(\"Confusion Matrix - \\n{}\\nClassification Report - \\n{}\\n\".format(log_conf,log_class))"
   ]
  },
  {
   "cell_type": "markdown",
   "metadata": {},
   "source": [
    "## n=8 Gram"
   ]
  },
  {
   "cell_type": "code",
   "execution_count": 14,
   "metadata": {},
   "outputs": [
    {
     "name": "stdout",
     "output_type": "stream",
     "text": [
      "Confusion Matrix - \n",
      "[[21  0]\n",
      " [25  4]]\n",
      "Classification Report - \n",
      "              precision    recall  f1-score   support\n",
      "\n",
      "           0       0.46      1.00      0.63        21\n",
      "           1       1.00      0.14      0.24        29\n",
      "\n",
      "    accuracy                           0.50        50\n",
      "   macro avg       0.73      0.57      0.43        50\n",
      "weighted avg       0.77      0.50      0.40        50\n",
      "\n",
      "\n"
     ]
    }
   ],
   "source": [
    "#n-8gram Modelling and Vectorization\n",
    "new_data = preprocess(data)\n",
    "vectorizer = TfidfVectorizer(ngram_range=(8,8))\n",
    "new_data = vectorizer.fit_transform(new_data)\n",
    "\n",
    "## Logistic Regression\n",
    "\n",
    "from sklearn.model_selection import train_test_split\n",
    "X_train, X_test, Y_train, Y_test=train_test_split(new_data,data['v1'],test_size=0.25)\n",
    "\n",
    "logistic = LogisticRegression()\n",
    "logistic.fit(X_train, Y_train)\n",
    "Y_pred = logistic.predict(X_test)\n",
    "\n",
    "#Evaluation Metrics\n",
    "from sklearn.metrics import accuracy_score, confusion_matrix, classification_report, precision_score, recall_score, f1_score\n",
    "log_acc = accuracy_score(Y_test,Y_pred) * 100\n",
    "log_conf = confusion_matrix(Y_test,Y_pred)\n",
    "log_class = classification_report(Y_test,Y_pred)\n",
    "log_prec = precision_score(Y_test,Y_pred)\n",
    "log_rec = recall_score(Y_test,Y_pred)\n",
    "log_fscore = f1_score(Y_test,Y_pred)\n",
    "eval_df.at[7,'Accuracy'] = log_acc\n",
    "eval_df.at[7,'Precision'] = log_prec\n",
    "eval_df.at[7,'Recall'] = log_rec\n",
    "eval_df.at[7,'F1_Score'] = log_fscore\n",
    "print(\"Confusion Matrix - \\n{}\\nClassification Report - \\n{}\\n\".format(log_conf,log_class))"
   ]
  },
  {
   "cell_type": "markdown",
   "metadata": {},
   "source": [
    "## n=9 Gram"
   ]
  },
  {
   "cell_type": "code",
   "execution_count": 15,
   "metadata": {},
   "outputs": [
    {
     "name": "stdout",
     "output_type": "stream",
     "text": [
      "Confusion Matrix - \n",
      "[[20  0]\n",
      " [27  3]]\n",
      "Classification Report - \n",
      "              precision    recall  f1-score   support\n",
      "\n",
      "           0       0.43      1.00      0.60        20\n",
      "           1       1.00      0.10      0.18        30\n",
      "\n",
      "    accuracy                           0.46        50\n",
      "   macro avg       0.71      0.55      0.39        50\n",
      "weighted avg       0.77      0.46      0.35        50\n",
      "\n",
      "\n"
     ]
    }
   ],
   "source": [
    "#n-9gram Modelling and Vectorization\n",
    "new_data = preprocess(data)\n",
    "vectorizer = TfidfVectorizer(ngram_range=(9,9))\n",
    "new_data = vectorizer.fit_transform(new_data)\n",
    "\n",
    "## Logistic Regression\n",
    "\n",
    "from sklearn.model_selection import train_test_split\n",
    "X_train, X_test, Y_train, Y_test=train_test_split(new_data,data['v1'],test_size=0.25)\n",
    "\n",
    "logistic = LogisticRegression()\n",
    "logistic.fit(X_train, Y_train)\n",
    "Y_pred = logistic.predict(X_test)\n",
    "\n",
    "#Evaluation Metrics\n",
    "from sklearn.metrics import accuracy_score, confusion_matrix, classification_report, precision_score, recall_score, f1_score\n",
    "log_acc = accuracy_score(Y_test,Y_pred) * 100\n",
    "log_conf = confusion_matrix(Y_test,Y_pred)\n",
    "log_class = classification_report(Y_test,Y_pred)\n",
    "log_prec = precision_score(Y_test,Y_pred)\n",
    "log_rec = recall_score(Y_test,Y_pred)\n",
    "log_fscore = f1_score(Y_test,Y_pred)\n",
    "eval_df.at[8,'Accuracy'] = log_acc\n",
    "eval_df.at[8,'Precision'] = log_prec\n",
    "eval_df.at[8,'Recall'] = log_rec\n",
    "eval_df.at[8,'F1_Score'] = log_fscore\n",
    "print(\"Confusion Matrix - \\n{}\\nClassification Report - \\n{}\\n\".format(log_conf,log_class))"
   ]
  },
  {
   "cell_type": "markdown",
   "metadata": {},
   "source": [
    "## n=10 Gram"
   ]
  },
  {
   "cell_type": "code",
   "execution_count": 16,
   "metadata": {},
   "outputs": [
    {
     "name": "stdout",
     "output_type": "stream",
     "text": [
      "Confusion Matrix - \n",
      "[[25  0]\n",
      " [22  3]]\n",
      "Classification Report - \n",
      "              precision    recall  f1-score   support\n",
      "\n",
      "           0       0.53      1.00      0.69        25\n",
      "           1       1.00      0.12      0.21        25\n",
      "\n",
      "    accuracy                           0.56        50\n",
      "   macro avg       0.77      0.56      0.45        50\n",
      "weighted avg       0.77      0.56      0.45        50\n",
      "\n",
      "\n"
     ]
    }
   ],
   "source": [
    "#n-10gram Modelling and Vectorization\n",
    "new_data = preprocess(data)\n",
    "vectorizer = TfidfVectorizer(ngram_range=(10,10))\n",
    "new_data = vectorizer.fit_transform(new_data)\n",
    "\n",
    "## Logistic Regression\n",
    "\n",
    "from sklearn.model_selection import train_test_split\n",
    "X_train, X_test, Y_train, Y_test=train_test_split(new_data,data['v1'],test_size=0.25)\n",
    "\n",
    "logistic = LogisticRegression()\n",
    "logistic.fit(X_train, Y_train)\n",
    "Y_pred = logistic.predict(X_test)\n",
    "\n",
    "#Evaluation Metrics\n",
    "from sklearn.metrics import accuracy_score, confusion_matrix, classification_report, precision_score, recall_score, f1_score\n",
    "log_acc = accuracy_score(Y_test,Y_pred) * 100\n",
    "log_conf = confusion_matrix(Y_test,Y_pred)\n",
    "log_class = classification_report(Y_test,Y_pred)\n",
    "log_prec = precision_score(Y_test,Y_pred)\n",
    "log_rec = recall_score(Y_test,Y_pred)\n",
    "log_fscore = f1_score(Y_test,Y_pred)\n",
    "eval_df.at[9,'Accuracy'] = log_acc\n",
    "eval_df.at[9,'Precision'] = log_prec\n",
    "eval_df.at[9,'Recall'] = log_rec\n",
    "eval_df.at[9,'F1_Score'] = log_fscore\n",
    "print(\"Confusion Matrix - \\n{}\\nClassification Report - \\n{}\\n\".format(log_conf,log_class))"
   ]
  },
  {
   "cell_type": "code",
   "execution_count": 17,
   "metadata": {},
   "outputs": [
    {
     "data": {
      "text/html": [
       "<div>\n",
       "<style scoped>\n",
       "    .dataframe tbody tr th:only-of-type {\n",
       "        vertical-align: middle;\n",
       "    }\n",
       "\n",
       "    .dataframe tbody tr th {\n",
       "        vertical-align: top;\n",
       "    }\n",
       "\n",
       "    .dataframe thead th {\n",
       "        text-align: right;\n",
       "    }\n",
       "</style>\n",
       "<table border=\"1\" class=\"dataframe\">\n",
       "  <thead>\n",
       "    <tr style=\"text-align: right;\">\n",
       "      <th></th>\n",
       "      <th>NGram</th>\n",
       "      <th>Accuracy</th>\n",
       "      <th>Precision</th>\n",
       "      <th>Recall</th>\n",
       "      <th>F1_Score</th>\n",
       "    </tr>\n",
       "  </thead>\n",
       "  <tbody>\n",
       "    <tr>\n",
       "      <th>0</th>\n",
       "      <td>n=1</td>\n",
       "      <td>90.0</td>\n",
       "      <td>1.0</td>\n",
       "      <td>0.791667</td>\n",
       "      <td>0.883721</td>\n",
       "    </tr>\n",
       "    <tr>\n",
       "      <th>1</th>\n",
       "      <td>n=2</td>\n",
       "      <td>62.0</td>\n",
       "      <td>1.0</td>\n",
       "      <td>0.296296</td>\n",
       "      <td>0.457143</td>\n",
       "    </tr>\n",
       "    <tr>\n",
       "      <th>2</th>\n",
       "      <td>n=3</td>\n",
       "      <td>44.0</td>\n",
       "      <td>1.0</td>\n",
       "      <td>0.034483</td>\n",
       "      <td>0.066667</td>\n",
       "    </tr>\n",
       "    <tr>\n",
       "      <th>3</th>\n",
       "      <td>n=4</td>\n",
       "      <td>54.0</td>\n",
       "      <td>1.0</td>\n",
       "      <td>0.115385</td>\n",
       "      <td>0.206897</td>\n",
       "    </tr>\n",
       "    <tr>\n",
       "      <th>4</th>\n",
       "      <td>n=5</td>\n",
       "      <td>50.0</td>\n",
       "      <td>1.0</td>\n",
       "      <td>0.038462</td>\n",
       "      <td>0.074074</td>\n",
       "    </tr>\n",
       "    <tr>\n",
       "      <th>5</th>\n",
       "      <td>n=6</td>\n",
       "      <td>54.0</td>\n",
       "      <td>1.0</td>\n",
       "      <td>0.041667</td>\n",
       "      <td>0.08</td>\n",
       "    </tr>\n",
       "    <tr>\n",
       "      <th>6</th>\n",
       "      <td>n=7</td>\n",
       "      <td>58.0</td>\n",
       "      <td>1.0</td>\n",
       "      <td>0.125</td>\n",
       "      <td>0.222222</td>\n",
       "    </tr>\n",
       "    <tr>\n",
       "      <th>7</th>\n",
       "      <td>n=8</td>\n",
       "      <td>50.0</td>\n",
       "      <td>1.0</td>\n",
       "      <td>0.137931</td>\n",
       "      <td>0.242424</td>\n",
       "    </tr>\n",
       "    <tr>\n",
       "      <th>8</th>\n",
       "      <td>n=9</td>\n",
       "      <td>46.0</td>\n",
       "      <td>1.0</td>\n",
       "      <td>0.1</td>\n",
       "      <td>0.181818</td>\n",
       "    </tr>\n",
       "    <tr>\n",
       "      <th>9</th>\n",
       "      <td>n=10</td>\n",
       "      <td>56.0</td>\n",
       "      <td>1.0</td>\n",
       "      <td>0.12</td>\n",
       "      <td>0.214286</td>\n",
       "    </tr>\n",
       "  </tbody>\n",
       "</table>\n",
       "</div>"
      ],
      "text/plain": [
       "  NGram Accuracy Precision    Recall  F1_Score\n",
       "0   n=1     90.0       1.0  0.791667  0.883721\n",
       "1   n=2     62.0       1.0  0.296296  0.457143\n",
       "2   n=3     44.0       1.0  0.034483  0.066667\n",
       "3   n=4     54.0       1.0  0.115385  0.206897\n",
       "4   n=5     50.0       1.0  0.038462  0.074074\n",
       "5   n=6     54.0       1.0  0.041667      0.08\n",
       "6   n=7     58.0       1.0     0.125  0.222222\n",
       "7   n=8     50.0       1.0  0.137931  0.242424\n",
       "8   n=9     46.0       1.0       0.1  0.181818\n",
       "9  n=10     56.0       1.0      0.12  0.214286"
      ]
     },
     "execution_count": 17,
     "metadata": {},
     "output_type": "execute_result"
    }
   ],
   "source": [
    "eval_df"
   ]
  },
  {
   "cell_type": "code",
   "execution_count": 18,
   "metadata": {},
   "outputs": [
    {
     "data": {
      "text/plain": [
       "[]"
      ]
     },
     "execution_count": 18,
     "metadata": {},
     "output_type": "execute_result"
    },
    {
     "data": {
      "image/png": "[encoded data removed]",
      "text/plain": [
       "<Figure size 432x288 with 1 Axes>"
      ]
     },
     "metadata": {
      "needs_background": "light"
     },
     "output_type": "display_data"
    }
   ],
   "source": [
    "import matplotlib.pyplot as plt\n",
    "%matplotlib inline\n",
    "\n",
    "plt.bar(eval_df['NGram'],eval_df['Accuracy'])\n",
    "plt.title('Accuracy')\n",
    "plt.xticks(rotation=45)\n",
    "plt.xlabel('Language Model')\n",
    "plt.ylabel('Accuracy')\n",
    "plt.plot()"
   ]
  },
  {
   "cell_type": "code",
   "execution_count": 19,
   "metadata": {},
   "outputs": [
    {
     "data": {
      "text/plain": [
       "[]"
      ]
     },
     "execution_count": 19,
     "metadata": {},
     "output_type": "execute_result"
    },
    {
     "data": {
      "image/png": "[encoded data removed]",
      "text/plain": [
       "<Figure size 432x288 with 1 Axes>"
      ]
     },
     "metadata": {
      "needs_background": "light"
     },
     "output_type": "display_data"
    }
   ],
   "source": [
    "plt.bar(eval_df['NGram'],eval_df['Precision'])\n",
    "plt.title('Precision')\n",
    "plt.xticks(rotation=45)\n",
    "plt.xlabel('Language Model')\n",
    "plt.ylabel('Precision')\n",
    "plt.plot()"
   ]
  },
  {
   "cell_type": "code",
   "execution_count": 20,
   "metadata": {},
   "outputs": [
    {
     "data": {
      "text/plain": [
       "[]"
      ]
     },
     "execution_count": 20,
     "metadata": {},
     "output_type": "execute_result"
    },
    {
     "data": {
      "image/png": "[encoded data removed]",
      "text/plain": [
       "<Figure size 432x288 with 1 Axes>"
      ]
     },
     "metadata": {
      "needs_background": "light"
     },
     "output_type": "display_data"
    }
   ],
   "source": [
    "plt.bar(eval_df['NGram'],eval_df['Recall'])\n",
    "plt.title('Recall')\n",
    "plt.xticks(rotation=45)\n",
    "plt.xlabel('Language Model')\n",
    "plt.ylabel('Recall')\n",
    "plt.plot()"
   ]
  },
  {
   "cell_type": "code",
   "execution_count": 21,
   "metadata": {},
   "outputs": [
    {
     "data": {
      "text/plain": [
       "[]"
      ]
     },
     "execution_count": 21,
     "metadata": {},
     "output_type": "execute_result"
    },
    {
     "data": {
      "image/png": "[encoded data removed]",
      "text/plain": [
       "<Figure size 432x288 with 1 Axes>"
      ]
     },
     "metadata": {
      "needs_background": "light"
     },
     "output_type": "display_data"
    }
   ],
   "source": [
    "plt.bar(eval_df['NGram'],eval_df['F1_Score'])\n",
    "plt.title('F1_Score')\n",
    "plt.xticks(rotation=45)\n",
    "plt.xlabel('Language Model')\n",
    "plt.ylabel('F1_Score')\n",
    "plt.plot()"
   ]
  },
  {
   "cell_type": "code",
   "execution_count": null,
   "metadata": {},
   "outputs": [],
   "source": []
  },
  {
   "cell_type": "code",
   "execution_count": null,
   "metadata": {},
   "outputs": [],
   "source": []
  }
 ],
 "metadata": {
  "kernelspec": {
   "display_name": "Python 3",
   "language": "python",
   "name": "python3"
  },
  "language_info": {
   "codemirror_mode": {
    "name": "ipython",
    "version": 3
   },
   "file_extension": ".py",
   "mimetype": "text/x-python",
   "name": "python",
   "nbconvert_exporter": "python",
   "pygments_lexer": "ipython3",
   "version": "3.8.2"
  }
 },
 "nbformat": 4,
 "nbformat_minor": 4
}
