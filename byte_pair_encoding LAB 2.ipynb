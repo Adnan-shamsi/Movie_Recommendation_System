{
 "cells": [
  {
   "cell_type": "code",
   "execution_count": 1,
   "id": "foreign-steering",
   "metadata": {},
   "outputs": [],
   "source": [
    "import re\n",
    "import collections"
   ]
  },
  {
   "cell_type": "code",
   "execution_count": 2,
   "id": "declared-reggae",
   "metadata": {},
   "outputs": [],
   "source": [
    "def readFile(fileName):\n",
    "    with open(fileName) as f:\n",
    "        return str([line.strip() for line in f.readlines()]).lower()"
   ]
  },
  {
   "cell_type": "code",
   "execution_count": 3,
   "id": "sweet-specialist",
   "metadata": {},
   "outputs": [],
   "source": [
    "class BytePairEncoding:\n",
    "    \n",
    "    def __init__(self, max_iteration, data):\n",
    "        self.max_iteration = max_iteration\n",
    "        self.data = self.cleanAndModifyData(data)\n",
    "        self.sequence = []\n",
    "    \n",
    "    def cleanAndModifyData(self,data):\n",
    "        return [' '.join(list(word+'_')) for word in re.findall(\"([^\\W]+)\", data)]\n",
    "    \n",
    "    def calc_frequency(self):\n",
    "        pairs = collections.defaultdict(int)\n",
    "        for word in self.data:\n",
    "            x = word.split()\n",
    "            for i in range(len(x)-1):\n",
    "                pairs[(x[i], x[i+1])] += 1\n",
    "        return pairs\n",
    "    \n",
    "    def updated_data(self, to_match, data):\n",
    "        new_formation = []\n",
    "\n",
    "        for string in data: #'i s _'\n",
    "            string = string.split()\n",
    "            new_string = [string[0]];\n",
    "        \n",
    "            for idx in range(1,len(string)):\n",
    "                \n",
    "                if new_string[-1] + string[idx] == to_match:\n",
    "                    new_string[-1] += string[idx]\n",
    "                else:\n",
    "                    new_string.append(string[idx])\n",
    "                    \n",
    "            new_string = ' '.join(new_string)\n",
    "            \n",
    "            new_formation.append(new_string)\n",
    "            \n",
    "        return new_formation\n",
    "    \n",
    "    def train(self):\n",
    "        for _ in range(self.max_iteration):\n",
    "            pairs = self.calc_frequency()\n",
    "            best = max(pairs, key=pairs.get)\n",
    "            self.data = self.updated_data(''.join(best),self.data)\n",
    "            self.sequence.append(best)\n",
    "        return self.data         \n",
    "            \n",
    "    def test(self,testData):\n",
    "        testData = self.cleanAndModifyData(testData)\n",
    "        for pair in self.sequence:\n",
    "            testData = self.updated_data(''.join(pair),testData)\n",
    "        return testData    \n",
    "                "
   ]
  },
  {
   "cell_type": "code",
   "execution_count": 4,
   "id": "coordinated-declaration",
   "metadata": {},
   "outputs": [],
   "source": [
    "training_data = readFile('train.txt')"
   ]
  },
  {
   "cell_type": "code",
   "execution_count": 5,
   "id": "strategic-premiere",
   "metadata": {},
   "outputs": [
    {
     "data": {
      "text/plain": [
       "\"['wider', 'low', 'low', 'lowest', 'newer', 'low', 'lowest', 'newer', 'low', 'newer', 'newer', 'new', 'newer', 'low', 'wider', 'newer', 'wider', 'new']\""
      ]
     },
     "execution_count": 5,
     "metadata": {},
     "output_type": "execute_result"
    }
   ],
   "source": [
    "training_data"
   ]
  },
  {
   "cell_type": "code",
   "execution_count": 6,
   "id": "broke-pottery",
   "metadata": {},
   "outputs": [],
   "source": [
    "model = BytePairEncoding(6,training_data)"
   ]
  },
  {
   "cell_type": "code",
   "execution_count": 7,
   "id": "concrete-coating",
   "metadata": {},
   "outputs": [
    {
     "data": {
      "text/plain": [
       "['w i d e r _',\n",
       " 'l o w _',\n",
       " 'l o w _',\n",
       " 'l o w e s t _',\n",
       " 'n e w e r _',\n",
       " 'l o w _',\n",
       " 'l o w e s t _',\n",
       " 'n e w e r _',\n",
       " 'l o w _',\n",
       " 'n e w e r _',\n",
       " 'n e w e r _',\n",
       " 'n e w _',\n",
       " 'n e w e r _',\n",
       " 'l o w _',\n",
       " 'w i d e r _',\n",
       " 'n e w e r _',\n",
       " 'w i d e r _',\n",
       " 'n e w _']"
      ]
     },
     "execution_count": 7,
     "metadata": {},
     "output_type": "execute_result"
    }
   ],
   "source": [
    "model.data"
   ]
  },
  {
   "cell_type": "code",
   "execution_count": 8,
   "id": "thick-airport",
   "metadata": {},
   "outputs": [
    {
     "data": {
      "text/plain": [
       "['w i d er_',\n",
       " 'low _',\n",
       " 'low _',\n",
       " 'low e s t _',\n",
       " 'new er_',\n",
       " 'low _',\n",
       " 'low e s t _',\n",
       " 'new er_',\n",
       " 'low _',\n",
       " 'new er_',\n",
       " 'new er_',\n",
       " 'new _',\n",
       " 'new er_',\n",
       " 'low _',\n",
       " 'w i d er_',\n",
       " 'new er_',\n",
       " 'w i d er_',\n",
       " 'new _']"
      ]
     },
     "execution_count": 8,
     "metadata": {},
     "output_type": "execute_result"
    }
   ],
   "source": [
    "model.train()"
   ]
  },
  {
   "cell_type": "code",
   "execution_count": 9,
   "id": "alleged-offering",
   "metadata": {},
   "outputs": [
    {
     "data": {
      "text/plain": [
       "['w i d er_',\n",
       " 'low _',\n",
       " 'low _',\n",
       " 'low e s t _',\n",
       " 'new er_',\n",
       " 'low _',\n",
       " 'low e s t _',\n",
       " 'new er_',\n",
       " 'low _',\n",
       " 'new er_',\n",
       " 'new er_',\n",
       " 'new _',\n",
       " 'new er_',\n",
       " 'low _',\n",
       " 'w i d er_',\n",
       " 'new er_',\n",
       " 'w i d er_',\n",
       " 'new _']"
      ]
     },
     "execution_count": 9,
     "metadata": {},
     "output_type": "execute_result"
    }
   ],
   "source": [
    "model.data"
   ]
  },
  {
   "cell_type": "code",
   "execution_count": 10,
   "id": "fitting-pipeline",
   "metadata": {},
   "outputs": [
    {
     "data": {
      "text/plain": [
       "[('e', 'r'), ('er', '_'), ('n', 'e'), ('ne', 'w'), ('l', 'o'), ('lo', 'w')]"
      ]
     },
     "execution_count": 10,
     "metadata": {},
     "output_type": "execute_result"
    }
   ],
   "source": [
    "model.sequence"
   ]
  },
  {
   "cell_type": "code",
   "execution_count": 11,
   "id": "second-minutes",
   "metadata": {},
   "outputs": [],
   "source": [
    "testing_data = readFile('test.txt')"
   ]
  },
  {
   "cell_type": "code",
   "execution_count": 12,
   "id": "bizarre-farming",
   "metadata": {},
   "outputs": [
    {
     "data": {
      "text/plain": [
       "\"['lower', 'newest']\""
      ]
     },
     "execution_count": 12,
     "metadata": {},
     "output_type": "execute_result"
    }
   ],
   "source": [
    "testing_data"
   ]
  },
  {
   "cell_type": "code",
   "execution_count": 13,
   "id": "hollywood-wright",
   "metadata": {},
   "outputs": [
    {
     "data": {
      "text/plain": [
       "['low er_', 'new e s t _']"
      ]
     },
     "execution_count": 13,
     "metadata": {},
     "output_type": "execute_result"
    }
   ],
   "source": [
    "model.test(testing_data)"
   ]
  },
  {
   "cell_type": "code",
   "execution_count": null,
   "id": "ahead-withdrawal",
   "metadata": {},
   "outputs": [],
   "source": []
  }
 ],
 "metadata": {
  "kernelspec": {
   "display_name": "Python 3 (ipykernel)",
   "language": "python",
   "name": "python3"
  },
  "language_info": {
   "codemirror_mode": {
    "name": "ipython",
    "version": 3
   },
   "file_extension": ".py",
   "mimetype": "text/x-python",
   "name": "python",
   "nbconvert_exporter": "python",
   "pygments_lexer": "ipython3",
   "version": "3.9.12"
  }
 },
 "nbformat": 4,
 "nbformat_minor": 5
}
