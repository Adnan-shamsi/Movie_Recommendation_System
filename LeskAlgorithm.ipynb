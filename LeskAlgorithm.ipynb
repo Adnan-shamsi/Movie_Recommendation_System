{
 "cells": [
  {
   "cell_type": "code",
   "execution_count": 9,
   "metadata": {
    "colab": {
     "base_uri": "https://localhost:8080/"
    },
    "id": "VIfWJLd-Pgys",
    "outputId": "f3404529-ddf3-4dec-f6c1-7fb94397ae49"
   },
   "outputs": [
    {
     "name": "stderr",
     "output_type": "stream",
     "text": [
      "[nltk_data] Downloading package stopwords to C:\\Users\\Azim\n",
      "[nltk_data]     Javed\\AppData\\Roaming\\nltk_data...\n",
      "[nltk_data]   Package stopwords is already up-to-date!\n",
      "[nltk_data] Downloading package wordnet to C:\\Users\\Azim\n",
      "[nltk_data]     Javed\\AppData\\Roaming\\nltk_data...\n",
      "[nltk_data]   Package wordnet is already up-to-date!\n",
      "[nltk_data] Downloading package punkt to C:\\Users\\Azim\n",
      "[nltk_data]     Javed\\AppData\\Roaming\\nltk_data...\n",
      "[nltk_data]   Package punkt is already up-to-date!\n",
      "[nltk_data] Downloading package averaged_perceptron_tagger to\n",
      "[nltk_data]     C:\\Users\\Azim Javed\\AppData\\Roaming\\nltk_data...\n",
      "[nltk_data]   Package averaged_perceptron_tagger is already up-to-\n",
      "[nltk_data]       date!\n",
      "[nltk_data] Downloading package omw-1.4 to C:\\Users\\Azim\n",
      "[nltk_data]     Javed\\AppData\\Roaming\\nltk_data...\n",
      "[nltk_data]   Unzipping corpora\\omw-1.4.zip.\n"
     ]
    }
   ],
   "source": [
    "import nltk\n",
    "nltk.download('stopwords')\n",
    "nltk.download('wordnet')\n",
    "nltk.download('punkt')\n",
    "nltk.download('averaged_perceptron_tagger') \n",
    "nltk.download('omw-1.4')\n",
    "\n",
    "import pandas as pd\n",
    "import matplotlib.pyplot as plt\n",
    "import io\n",
    "import unicodedata\n",
    "import numpy as np\n",
    "import re\n",
    "import string"
   ]
  },
  {
   "cell_type": "code",
   "execution_count": 10,
   "metadata": {
    "colab": {
     "base_uri": "https://localhost:8080/"
    },
    "id": "yKwD5YZbP6Cm",
    "outputId": "9c0c56e5-5a7a-4299-aec5-558f35205b1c"
   },
   "outputs": [
    {
     "name": "stdout",
     "output_type": "stream",
     "text": [
      "Synset('savings_bank.n.02')\n"
     ]
    }
   ],
   "source": [
    "from nltk.wsd import lesk\n",
    "from nltk.tokenize import word_tokenize\n",
    "test = 'I went to bank to deposit money'.split()\n",
    "# print(lesk(word_tokenize(test), 'bank').definition())\n",
    "print(lesk(test, 'bank', 'n'))"
   ]
  },
  {
   "cell_type": "code",
   "execution_count": 43,
   "metadata": {
    "colab": {
     "base_uri": "https://localhost:8080/"
    },
    "id": "iDWj-kUBR9Uh",
    "outputId": "d859fdbb-99ac-4ffc-c9ee-5e3859c887ee"
   },
   "outputs": [
    {
     "name": "stdout",
     "output_type": "stream",
     "text": [
      "Words matched:  3\n",
      "Sense matched:  Synset('depository_financial_institution.n.01')\n",
      "Sense Definition:  a financial institution that accepts deposits and channels the money into lending activities\n"
     ]
    }
   ],
   "source": [
    "from nltk.corpus import stopwords\n",
    "from nltk.tokenize import word_tokenize\n",
    "from nltk.corpus import wordnet as wn\n",
    "\n",
    "def leskAlgo(example_sent, ambiguous_word):\n",
    "    stop_words = set(stopwords.words('english'))\n",
    "    word_tokens = word_tokenize(example_sent)\n",
    "    filtered_sentence = []\n",
    "    for w in word_tokens:\n",
    "        if w not in stop_words:\n",
    "            filtered_sentence.append(w)\n",
    "    \n",
    "    context = set(filtered_sentence)\n",
    "    synsets = wn.synsets(ambiguous_word)\n",
    "    i = 0\n",
    "    maxCount = -1\n",
    "    maxIndex = -1\n",
    "    for ss in synsets:\n",
    "        egs = ss.examples()\n",
    "        if not len(egs):\n",
    "            continue;\n",
    "        count = 0\n",
    "        for eg in egs:\n",
    "            count += len(context.intersection(eg.split()))\n",
    "        if maxCount < count:\n",
    "            maxCount = count\n",
    "            maxIndex = i\n",
    "        i += 1\n",
    "    print(\"Words matched: \", maxCount)\n",
    "    print(\"Sense matched: \", synsets[maxIndex])\n",
    "    print(\"Sense Definition: \", synsets[maxIndex].definition())\n",
    "leskAlgo('I went to bank to cash the check', 'bank')\n"
   ]
  },
  {
   "cell_type": "code",
   "execution_count": null,
   "metadata": {},
   "outputs": [],
   "source": []
  }
 ],
 "metadata": {
  "colab": {
   "collapsed_sections": [],
   "name": "6_Ahmad_hassan_ansari_18BCS041.ipynb",
   "provenance": [],
   "toc_visible": true
  },
  "kernelspec": {
   "display_name": "Python 3",
   "language": "python",
   "name": "python3"
  },
  "language_info": {
   "codemirror_mode": {
    "name": "ipython",
    "version": 3
   },
   "file_extension": ".py",
   "mimetype": "text/x-python",
   "name": "python",
   "nbconvert_exporter": "python",
   "pygments_lexer": "ipython3",
   "version": "3.8.2"
  }
 },
 "nbformat": 4,
 "nbformat_minor": 1
}
